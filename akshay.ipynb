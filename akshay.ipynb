{
 "cells": [
  {
   "cell_type": "code",
   "execution_count": null,
   "id": "b0791912-2252-468e-bb2e-a3135a445227",
   "metadata": {},
   "outputs": [],
   "source": [
    "import tkinter as tk\n",
    "from tkinter import messagebox\n",
    "\n",
    "def count_odd_even():\n",
    "    try:\n",
    "        # Step 2: Initialize the values to the variable, numbers\n",
    "        numbers = entry_numbers.get()\n",
    "        number_list = list(map(int, numbers.split()))\n",
    "        \n",
    "        # Step 3: Assign 0 to the variable count_odd and count_even\n",
    "        count_odd = 0\n",
    "        count_even = 0\n",
    "\n",
    "        # Step 4: For x to numbers\n",
    "        for x in number_list:\n",
    "            # Step 5: Check if x%2==0 then increment the count_even by one\n",
    "            if x % 2 == 0:\n",
    "                count_even += 1\n",
    "            # Step 6: Else increment the count_odd by one\n",
    "            else:\n",
    "                count_odd += 1\n",
    "\n",
    "        # Step 8: Display the value of count_even and count_odd variable\n",
    "        result_label.config(text=f\"Even: {count_even}, Odd: {count_odd}\")\n",
    "    except ValueError:\n",
    "        messagebox.showerror(\"Invalid Input\", \"Please enter valid integers separated by spaces.\")\n",
    "\n",
    "# Step 1: Start the program\n",
    "# Create the main application window\n",
    "root = tk.Tk()\n",
    "root.title(\"Odd and Even Counter\")\n",
    "root.geometry(\"400x200\")\n",
    "\n",
    "# Input label and entry\n",
    "label_numbers = tk.Label(root, text=\"Enter numbers (space-separated):\")\n",
    "label_numbers.pack(pady=5)\n",
    "\n",
    "entry_numbers = tk.Entry(root, width=40)\n",
    "entry_numbers.pack(pady=5)\n",
    "\n",
    "# Button to count odd and even numbers\n",
    "button_count = tk.Button(root, text=\"Count Odd and Even\", command=count_odd_even)\n",
    "button_count.pack(pady=10)\n",
    "\n",
    "# Label to display the result\n",
    "result_label = tk.Label(root, text=\"\", font=(\"Helvetica\", 12))\n",
    "result_label.pack(pady=10)\n",
    "\n",
    "# Step 9: Stop the program\n",
    "# Start the Tkinter event loop\n",
    "root.mainloop()"
   ]
  },
  {
   "cell_type": "code",
   "execution_count": null,
   "id": "8cb7e03f-f6dc-4204-8522-366d680ebf35",
   "metadata": {},
   "outputs": [],
   "source": []
  }
 ],
 "metadata": {
  "kernelspec": {
   "display_name": "Python 3 (ipykernel)",
   "language": "python",
   "name": "python3"
  },
  "language_info": {
   "codemirror_mode": {
    "name": "ipython",
    "version": 3
   },
   "file_extension": ".py",
   "mimetype": "text/x-python",
   "name": "python",
   "nbconvert_exporter": "python",
   "pygments_lexer": "ipython3",
   "version": "3.13.0"
  }
 },
 "nbformat": 4,
 "nbformat_minor": 5
}
